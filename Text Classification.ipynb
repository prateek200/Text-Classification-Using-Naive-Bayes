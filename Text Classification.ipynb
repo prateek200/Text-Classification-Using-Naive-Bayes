{
 "cells": [
  {
   "cell_type": "code",
   "execution_count": 15,
   "metadata": {},
   "outputs": [],
   "source": [
    "import os\n",
    "from sklearn.model_selection import train_test_split\n",
    "import nltk\n",
    "from nltk.corpus import stopwords\n",
    "import string"
   ]
  },
  {
   "cell_type": "code",
   "execution_count": 2,
   "metadata": {},
   "outputs": [],
   "source": [
    "x=[] # storing document in this x array   \n",
    "y=[] # storing category of document in this y array   \n",
    "\n",
    "for category in os.listdir(\"C:\\\\Users\\\\SONY\\\\Downloads\\\\20_newsgroups\"):\n",
    "    for document in os.listdir(\"C:\\\\Users\\\\SONY\\\\Downloads\\\\20_newsgroups\\\\\"+category):\n",
    "        with open(\"C:\\\\Users\\\\SONY\\\\Downloads\\\\20_newsgroups\\\\\"+category+'\\\\'+document, \"r\") as f:\n",
    "            x.append(f.read())\n",
    "            y.append(category)"
   ]
  },
  {
   "cell_type": "code",
   "execution_count": 7,
   "metadata": {},
   "outputs": [],
   "source": [
    "x_train,x_test,y_train,y_test=train_test_split(x,y)"
   ]
  },
  {
   "cell_type": "code",
   "execution_count": 68,
   "metadata": {},
   "outputs": [],
   "source": [
    "def feature_extraction(data):\n",
    "    \n",
    "    dictionary={}\n",
    "    stop_words= list( set(stopwords.words('english')) ) + list(string.punctuation)\n",
    "    \n",
    "    for row in data:\n",
    "        \n",
    "        words=nltk.word_tokenize(row) \n",
    "        \n",
    "        for word in words:\n",
    "            \n",
    "            word=word.lower()\n",
    "            \n",
    "            if(word in stop_words):\n",
    "                continue\n",
    "            if(word in dictionary):\n",
    "                \n",
    "                dictionary[word]=dictionary[word]+1\n",
    "            \n",
    "            else:\n",
    "                \n",
    "                dictionary[word]=1\n",
    "    \n",
    "    a=[]\n",
    "    \n",
    "    for feature in dictionary:\n",
    "        a.append((dictionary[feature],feature))\n",
    "    \n",
    "    a.sort(reverse=True)\n",
    "    \n",
    "    \n",
    "    Features=[]\n",
    "    \n",
    "    for i in range(2000):\n",
    "        \n",
    "        Features.append(a[i][1])\n",
    "    \n",
    "    return Features"
   ]
  },
  {
   "cell_type": "code",
   "execution_count": 78,
   "metadata": {},
   "outputs": [],
   "source": [
    "def fit(x,y,features):\n",
    "    \n",
    "    dictionary={}\n",
    "    dictionary[\"total_rows\"]=len(y)\n",
    "    classes=set(y)\n",
    "    \n",
    "    for target_class in classes:\n",
    "        \n",
    "        dictionary[target_class]={}\n",
    "        dictionary[target_class][\"total_rows\"]=y.count(target_class)\n",
    "        dictionary[target_class][\"total_words\"]=0\n",
    "        \n",
    "        for feature in features:\n",
    "            \n",
    "            dictionary[target_class][feature]=0\n",
    "        \n",
    "    \n",
    "    for row_number in range(len(x)):\n",
    "        \n",
    "        \n",
    "        words=nltk.word_tokenize(x[row_number])\n",
    "        current_class=y[row_number]\n",
    "        \n",
    "        for word in words:\n",
    "            \n",
    "            word=word.lower()\n",
    "            \n",
    "            if(word not in features):\n",
    "                continue\n",
    "            \n",
    "            dictionary[current_class][word]=dictionary[current_class][word]+1 \n",
    "            dictionary[current_class][\"total_words\"]=dictionary[current_class][\"total_words\"]+1\n",
    "    \n",
    "    \n",
    "    return dictionary"
   ]
  },
  {
   "cell_type": "code",
   "execution_count": 69,
   "metadata": {},
   "outputs": [],
   "source": [
    "features=feature_extraction(x_train)"
   ]
  },
  {
   "cell_type": "code",
   "execution_count": null,
   "metadata": {},
   "outputs": [],
   "source": [
    "fit(x_train,y_train,features)"
   ]
  },
  {
   "cell_type": "code",
   "execution_count": null,
   "metadata": {},
   "outputs": [],
   "source": []
  }
 ],
 "metadata": {
  "kernelspec": {
   "display_name": "Python 3",
   "language": "python",
   "name": "python3"
  },
  "language_info": {
   "codemirror_mode": {
    "name": "ipython",
    "version": 3
   },
   "file_extension": ".py",
   "mimetype": "text/x-python",
   "name": "python",
   "nbconvert_exporter": "python",
   "pygments_lexer": "ipython3",
   "version": "3.7.6"
  }
 },
 "nbformat": 4,
 "nbformat_minor": 4
}
